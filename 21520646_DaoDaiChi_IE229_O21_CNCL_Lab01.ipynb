{
  "nbformat": 4,
  "nbformat_minor": 0,
  "metadata": {
    "colab": {
      "provenance": []
    },
    "kernelspec": {
      "name": "python3",
      "display_name": "Python 3"
    },
    "language_info": {
      "name": "python"
    }
  },
  "cells": [
    {
      "cell_type": "markdown",
      "source": [
        "<h1>Question 1<h1/>"
      ],
      "metadata": {
        "id": "CP4XVvL1Ivcm"
      }
    },
    {
      "cell_type": "code",
      "execution_count": 1,
      "metadata": {
        "colab": {
          "base_uri": "https://localhost:8080/"
        },
        "id": "UCUp7c8yH7yI",
        "outputId": "8b1186df-0980-46e3-d5e0-88f1378e67f3"
      },
      "outputs": [
        {
          "output_type": "stream",
          "name": "stdout",
          "text": [
            "50005000\n"
          ]
        }
      ],
      "source": [
        "sum = 0\n",
        "for x in range(1, 10001):\n",
        " sum += x\n",
        "print(sum)"
      ]
    },
    {
      "cell_type": "markdown",
      "source": [
        "<h1>Question 2<h1/>"
      ],
      "metadata": {
        "id": "3y5nyceDI3ND"
      }
    },
    {
      "cell_type": "code",
      "source": [
        "sum = 0\n",
        "for x in range(1, 101):\n",
        " sum += x**3 + 3*x**2 + 5*x + 9\n",
        "print(sum)"
      ],
      "metadata": {
        "colab": {
          "base_uri": "https://localhost:8080/"
        },
        "id": "_TviYF0tIBHV",
        "outputId": "218dd5f4-b976-40f2-e682-f81f13eb74b4"
      },
      "execution_count": 4,
      "outputs": [
        {
          "output_type": "stream",
          "name": "stdout",
          "text": [
            "26543700\n"
          ]
        }
      ]
    },
    {
      "cell_type": "markdown",
      "source": [
        "<h1>Question 3<h1/>"
      ],
      "metadata": {
        "id": "Q51SVY_2I4an"
      }
    },
    {
      "cell_type": "code",
      "source": [
        "def reverse(xlist):\n",
        " res =[]\n",
        " for i in xlist:\n",
        "  res =[i] + res\n",
        " return res"
      ],
      "metadata": {
        "id": "BWs5UyEeIC7L"
      },
      "execution_count": 7,
      "outputs": []
    },
    {
      "cell_type": "markdown",
      "source": [
        "<h2>Test case 1<h2>"
      ],
      "metadata": {
        "id": "ce7An1URIQXM"
      }
    },
    {
      "cell_type": "code",
      "source": [
        "print(reverse([10, 20, 30, 40, 50]))"
      ],
      "metadata": {
        "colab": {
          "base_uri": "https://localhost:8080/"
        },
        "id": "PLzOI6j3IMtd",
        "outputId": "1e7ecc2c-e238-48a2-f53e-5b88dea3d82b"
      },
      "execution_count": 8,
      "outputs": [
        {
          "output_type": "stream",
          "name": "stdout",
          "text": [
            "[50, 40, 30, 20, 10]\n"
          ]
        }
      ]
    },
    {
      "cell_type": "code",
      "source": [
        "print(reverse([\"cat\", \"dog\", \"lion\", \"tiger\"]))"
      ],
      "metadata": {
        "colab": {
          "base_uri": "https://localhost:8080/"
        },
        "id": "mAYWvu2VIcZ8",
        "outputId": "2d8e1a3e-f46b-47bd-e6ae-ce2057e72c86"
      },
      "execution_count": 9,
      "outputs": [
        {
          "output_type": "stream",
          "name": "stdout",
          "text": [
            "['tiger', 'lion', 'dog', 'cat']\n"
          ]
        }
      ]
    }
  ]
}